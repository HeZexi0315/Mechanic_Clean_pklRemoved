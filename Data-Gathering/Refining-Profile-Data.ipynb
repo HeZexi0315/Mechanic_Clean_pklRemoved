{
 "cells": [
  {
   "cell_type": "markdown",
   "metadata": {},
   "source": [
    "# Refining Profile Data\n",
    "Adding information to the categories"
   ]
  },
  {
   "cell_type": "markdown",
   "metadata": {},
   "source": [
    "### Library and Data Imports"
   ]
  },
  {
   "cell_type": "code",
   "execution_count": 1,
   "metadata": {},
   "outputs": [],
   "source": [
    "import pandas as pd\r\n",
    "import _pickle as pickle\r\n",
    "import numpy as np\r\n",
    "from scipy.stats import halfnorm"
   ]
  },
  {
   "cell_type": "code",
   "execution_count": 2,
   "metadata": {},
   "outputs": [],
   "source": [
    "with open(\"../mechanic_profiles.pkl\",'rb') as fp:\r\n",
    "    df = pickle.load(fp)"
   ]
  },
  {
   "cell_type": "code",
   "execution_count": 3,
   "metadata": {},
   "outputs": [],
   "source": [
    "# Removing the numerical data\r\n",
    "df = df[['Bios']]"
   ]
  },
  {
   "cell_type": "markdown",
   "metadata": {},
   "source": [
    "### Creating Lists for the Categories"
   ]
  },
  {
   "cell_type": "code",
   "execution_count": 4,
   "metadata": {},
   "outputs": [],
   "source": [
    "# Probability dictionary\r\n",
    "p = {}\r\n",
    "\r\n",
    "# Movie Genres\r\n",
    "location = ['Jakata',\r\n",
    "          'Sumatra',\r\n",
    "          'Java',\r\n",
    "          'Bali',\r\n",
    "          'Kalimantan',\r\n",
    "          'Palangkaraya',\r\n",
    "          'Samarinda',\r\n",
    "          'Banjarmasin',\r\n",
    "          'Bandung']\r\n",
    "\r\n",
    "p['location'] = [0.28,\r\n",
    "               0.01,\r\n",
    "               0.16,\r\n",
    "               0.14,\r\n",
    "               0.09,\r\n",
    "               0.06,\r\n",
    "               0.04,\r\n",
    "               0.01, \r\n",
    "               0.21]\r\n",
    "\r\n",
    "# TV Genres\r\n",
    "Qualification = ['High School',\r\n",
    "      'Diploma',\r\n",
    "      'Bachelors Degree',\r\n",
    "      'Professional Mechanic',\r\n",
    "      'Junior Mechanic',\r\n",
    "      'Mechanic',\r\n",
    "      'Master',\r\n",
    "      'Doctorate',\r\n",
    "      'Associate']\r\n",
    "\r\n",
    "p['Qualification'] = [0.30,\r\n",
    "           0.23,\r\n",
    "           0.12,\r\n",
    "           0.12,\r\n",
    "           0.09,\r\n",
    "           0.08,\r\n",
    "           0.03,\r\n",
    "           0.02,\r\n",
    "           0.01]\r\n",
    "\r\n",
    "# Religions (could potentially create a spectrum)\r\n",
    "Specialisation = ['Advanced Auto Diagnostic Techniques',\r\n",
    "      'Advanced Vehicle Diagnostics and Management',\r\n",
    "      'Automotive Maintenance and Repair',\r\n",
    "      'Motor Vehicle Engineering',\r\n",
    "      'Heavy Vehicle Service',\r\n",
    "      'Maintenance Technian',\r\n",
    "      'Automotive Apprenticeships',\r\n",
    "      'Rail Apprenticeships',\r\n",
    "      'Rail Engineering Operative',\r\n",
    "      'Light Vehicle Service']\r\n",
    "\r\n",
    "p['Specialisation'] = [0.16,\r\n",
    "                 0.16,\r\n",
    "                 0.01,\r\n",
    "                 0.19,\r\n",
    "                 0.11,\r\n",
    "                 0.05,\r\n",
    "                 0.10,\r\n",
    "                 0.09,\r\n",
    "                 0.07,\r\n",
    "                 0.06]\r\n",
    "\r\n",
    "\r\n",
    "\r\n",
    "# Age (generating random numbers based on half normal distribution)\r\n",
    "age = halfnorm.rvs(loc=18,scale=8, size=df.shape[0]).astype(int)\r\n",
    "year_of_experience = halfnorm.rvs(loc=3,scale=5, size=df.shape[0]).astype(int)\r\n",
    "# Lists of Names and the list of the lists\r\n",
    "categories = [location, Qualification, Specialisation,age,year_of_experience]\r\n",
    "\r\n",
    "names = ['location','Qualification', 'Specialisation', 'Age',\"year of experience\"]\r\n",
    "\r\n",
    "combined = dict(zip(names, categories))"
   ]
  },
  {
   "cell_type": "markdown",
   "metadata": {},
   "source": [
    "### Establishing random values for each category"
   ]
  },
  {
   "cell_type": "code",
   "execution_count": 5,
   "metadata": {},
   "outputs": [],
   "source": [
    "# Looping through and assigning random values\r\n",
    "for name, cats in combined.items():\r\n",
    "    if name in ['location',\"Qualification\"]:\r\n",
    "        # Picking only 1 from the list\r\n",
    "        df[name] = np.random.choice(cats, df.shape[0], p=p[name])\r\n",
    "        \r\n",
    "    elif name == 'Age' :\r\n",
    "        # Generating random ages based on a normal distribution\r\n",
    "        df[name] = cats\r\n",
    "    elif name == 'year of experience' :\r\n",
    "    # Generating random ages based on a normal distribution\r\n",
    "        df[name] = cats\r\n",
    "    else:\r\n",
    "        # Picking 3 from the list \r\n",
    "        try:\r\n",
    "            df[name] = list(np.random.choice(cats, size=(df.shape[0],1,3), p=p[name]))\r\n",
    "        except:\r\n",
    "            df[name] = list(np.random.choice(cats, size=(df.shape[0],1,3)))\r\n",
    "        \r\n",
    "        df[name] = df[name].apply(lambda x: list(set(x[0].tolist())))\r\n",
    "        "
   ]
  },
  {
   "cell_type": "code",
   "execution_count": 6,
   "metadata": {
    "scrolled": true
   },
   "outputs": [
    {
     "data": {
      "text/html": "<div>\n<style scoped>\n    .dataframe tbody tr th:only-of-type {\n        vertical-align: middle;\n    }\n\n    .dataframe tbody tr th {\n        vertical-align: top;\n    }\n\n    .dataframe thead th {\n        text-align: right;\n    }\n</style>\n<table border=\"1\" class=\"dataframe\">\n  <thead>\n    <tr style=\"text-align: right;\">\n      <th></th>\n      <th>Bios</th>\n      <th>location</th>\n      <th>Qualification</th>\n      <th>Specialisation</th>\n      <th>Age</th>\n      <th>year of experience</th>\n    </tr>\n  </thead>\n  <tbody>\n    <tr>\n      <th>0</th>\n      <td>Passionate analyst. Explorer. Hipster-friendly...</td>\n      <td>Jakata</td>\n      <td>High School</td>\n      <td>[Advanced Auto Diagnostic Techniques, Motor Ve...</td>\n      <td>18</td>\n      <td>10</td>\n    </tr>\n    <tr>\n      <th>1</th>\n      <td>Twitter fanatic. Devoted web fanatic. Zombie e...</td>\n      <td>Jakata</td>\n      <td>Diploma</td>\n      <td>[Rail Apprenticeships, Rail Engineering Operat...</td>\n      <td>24</td>\n      <td>13</td>\n    </tr>\n    <tr>\n      <th>2</th>\n      <td>Total alcohol practitioner. Social media buff....</td>\n      <td>Java</td>\n      <td>Diploma</td>\n      <td>[Rail Apprenticeships, Light Vehicle Service, ...</td>\n      <td>22</td>\n      <td>11</td>\n    </tr>\n    <tr>\n      <th>3</th>\n      <td>Extreme twitter advocate. Hardcore internet ju...</td>\n      <td>Jakata</td>\n      <td>Professional Mechanic</td>\n      <td>[Advanced Auto Diagnostic Techniques, Advanced...</td>\n      <td>24</td>\n      <td>6</td>\n    </tr>\n    <tr>\n      <th>4</th>\n      <td>Problem solver. Devoted introvert. Food geek. ...</td>\n      <td>Samarinda</td>\n      <td>Diploma</td>\n      <td>[Rail Apprenticeships, Motor Vehicle Engineeri...</td>\n      <td>22</td>\n      <td>10</td>\n    </tr>\n    <tr>\n      <th>...</th>\n      <td>...</td>\n      <td>...</td>\n      <td>...</td>\n      <td>...</td>\n      <td>...</td>\n      <td>...</td>\n    </tr>\n    <tr>\n      <th>6160</th>\n      <td>Lifelong zombie junkie. Friendly travel buff. ...</td>\n      <td>Java</td>\n      <td>High School</td>\n      <td>[Rail Apprenticeships, Automotive Apprenticesh...</td>\n      <td>22</td>\n      <td>5</td>\n    </tr>\n    <tr>\n      <th>6161</th>\n      <td>Total introvert. Tv specialist. Pop culture ni...</td>\n      <td>Java</td>\n      <td>Bachelors Degree</td>\n      <td>[Light Vehicle Service, Advanced Vehicle Diagn...</td>\n      <td>19</td>\n      <td>9</td>\n    </tr>\n    <tr>\n      <th>6162</th>\n      <td>Friendly zombie specialist. Avid bacon expert....</td>\n      <td>Java</td>\n      <td>Diploma</td>\n      <td>[Light Vehicle Service, Automotive Apprentices...</td>\n      <td>19</td>\n      <td>5</td>\n    </tr>\n    <tr>\n      <th>6163</th>\n      <td>Wannabe coffee practitioner. Troublemaker. Com...</td>\n      <td>Bandung</td>\n      <td>Professional Mechanic</td>\n      <td>[Motor Vehicle Engineering, Heavy Vehicle Serv...</td>\n      <td>26</td>\n      <td>5</td>\n    </tr>\n    <tr>\n      <th>6164</th>\n      <td>Lifelong travel expert. Evil gamer. Infuriatin...</td>\n      <td>Bandung</td>\n      <td>Bachelors Degree</td>\n      <td>[Rail Apprenticeships, Light Vehicle Service, ...</td>\n      <td>37</td>\n      <td>14</td>\n    </tr>\n  </tbody>\n</table>\n<p>6165 rows × 6 columns</p>\n</div>",
      "text/plain": "                                                   Bios   location  \\\n0     Passionate analyst. Explorer. Hipster-friendly...     Jakata   \n1     Twitter fanatic. Devoted web fanatic. Zombie e...     Jakata   \n2     Total alcohol practitioner. Social media buff....       Java   \n3     Extreme twitter advocate. Hardcore internet ju...     Jakata   \n4     Problem solver. Devoted introvert. Food geek. ...  Samarinda   \n...                                                 ...        ...   \n6160  Lifelong zombie junkie. Friendly travel buff. ...       Java   \n6161  Total introvert. Tv specialist. Pop culture ni...       Java   \n6162  Friendly zombie specialist. Avid bacon expert....       Java   \n6163  Wannabe coffee practitioner. Troublemaker. Com...    Bandung   \n6164  Lifelong travel expert. Evil gamer. Infuriatin...    Bandung   \n\n              Qualification  \\\n0               High School   \n1                   Diploma   \n2                   Diploma   \n3     Professional Mechanic   \n4                   Diploma   \n...                     ...   \n6160            High School   \n6161       Bachelors Degree   \n6162                Diploma   \n6163  Professional Mechanic   \n6164       Bachelors Degree   \n\n                                         Specialisation  Age  \\\n0     [Advanced Auto Diagnostic Techniques, Motor Ve...   18   \n1     [Rail Apprenticeships, Rail Engineering Operat...   24   \n2     [Rail Apprenticeships, Light Vehicle Service, ...   22   \n3     [Advanced Auto Diagnostic Techniques, Advanced...   24   \n4     [Rail Apprenticeships, Motor Vehicle Engineeri...   22   \n...                                                 ...  ...   \n6160  [Rail Apprenticeships, Automotive Apprenticesh...   22   \n6161  [Light Vehicle Service, Advanced Vehicle Diagn...   19   \n6162  [Light Vehicle Service, Automotive Apprentices...   19   \n6163  [Motor Vehicle Engineering, Heavy Vehicle Serv...   26   \n6164  [Rail Apprenticeships, Light Vehicle Service, ...   37   \n\n      year of experience  \n0                     10  \n1                     13  \n2                     11  \n3                      6  \n4                     10  \n...                  ...  \n6160                   5  \n6161                   9  \n6162                   5  \n6163                   5  \n6164                  14  \n\n[6165 rows x 6 columns]"
     },
     "execution_count": 6,
     "metadata": {},
     "output_type": "execute_result"
    }
   ],
   "source": [
    "df"
   ]
  },
  {
   "cell_type": "markdown",
   "metadata": {},
   "source": [
    "### Categorizing"
   ]
  },
  {
   "cell_type": "code",
   "execution_count": 7,
   "metadata": {},
   "outputs": [],
   "source": [
    "df['location'] = pd.Categorical(df.location, ordered=True,\r\n",
    "                                categories=['Jakata',\r\n",
    "                                        'Sumatra',\r\n",
    "                                        'Java',\r\n",
    "                                        'Bali',\r\n",
    "                                        'Kalimantan',\r\n",
    "                                        'Palangkaraya',\r\n",
    "                                        'Samarinda',\r\n",
    "                                        'Banjarmasin',\r\n",
    "                                        'Bandung'])\r\n",
    "df['Qualification'] = pd.Categorical(df.Qualification, ordered=True,\r\n",
    "                                categories=['High School',\r\n",
    "                                        'Diploma',\r\n",
    "                                        'Bachelors Degree',\r\n",
    "                                        'Professional Mechanic',\r\n",
    "                                        'Junior Mechanic',\r\n",
    "                                        'Mechanic',\r\n",
    "                                        'Master',\r\n",
    "                                        'Doctorate',\r\n",
    "                                        'Associate'])\r\n",
    "\r\n"
   ]
  },
  {
   "cell_type": "markdown",
   "metadata": {},
   "source": [
    "### Exporting the DF"
   ]
  },
  {
   "cell_type": "code",
   "execution_count": 8,
   "metadata": {},
   "outputs": [],
   "source": [
    "with open(\"refined_profiles_1.pkl\",'wb') as fp:\r\n",
    "    pickle.dump(df, fp)"
   ]
  },
  {
   "cell_type": "code",
   "execution_count": 9,
   "metadata": {},
   "outputs": [
    {
     "data": {
      "text/html": "<div>\n<style scoped>\n    .dataframe tbody tr th:only-of-type {\n        vertical-align: middle;\n    }\n\n    .dataframe tbody tr th {\n        vertical-align: top;\n    }\n\n    .dataframe thead th {\n        text-align: right;\n    }\n</style>\n<table border=\"1\" class=\"dataframe\">\n  <thead>\n    <tr style=\"text-align: right;\">\n      <th></th>\n      <th>Bios</th>\n      <th>location</th>\n      <th>Qualification</th>\n      <th>Specialisation</th>\n      <th>Age</th>\n      <th>year of experience</th>\n    </tr>\n  </thead>\n  <tbody>\n    <tr>\n      <th>0</th>\n      <td>Passionate analyst. Explorer. Hipster-friendly...</td>\n      <td>Jakata</td>\n      <td>High School</td>\n      <td>[Advanced Auto Diagnostic Techniques, Motor Ve...</td>\n      <td>18</td>\n      <td>10</td>\n    </tr>\n    <tr>\n      <th>1</th>\n      <td>Twitter fanatic. Devoted web fanatic. Zombie e...</td>\n      <td>Jakata</td>\n      <td>Diploma</td>\n      <td>[Rail Apprenticeships, Rail Engineering Operat...</td>\n      <td>24</td>\n      <td>13</td>\n    </tr>\n    <tr>\n      <th>2</th>\n      <td>Total alcohol practitioner. Social media buff....</td>\n      <td>Java</td>\n      <td>Diploma</td>\n      <td>[Rail Apprenticeships, Light Vehicle Service, ...</td>\n      <td>22</td>\n      <td>11</td>\n    </tr>\n    <tr>\n      <th>3</th>\n      <td>Extreme twitter advocate. Hardcore internet ju...</td>\n      <td>Jakata</td>\n      <td>Professional Mechanic</td>\n      <td>[Advanced Auto Diagnostic Techniques, Advanced...</td>\n      <td>24</td>\n      <td>6</td>\n    </tr>\n    <tr>\n      <th>4</th>\n      <td>Problem solver. Devoted introvert. Food geek. ...</td>\n      <td>Samarinda</td>\n      <td>Diploma</td>\n      <td>[Rail Apprenticeships, Motor Vehicle Engineeri...</td>\n      <td>22</td>\n      <td>10</td>\n    </tr>\n  </tbody>\n</table>\n</div>",
      "text/plain": "                                                Bios   location  \\\n0  Passionate analyst. Explorer. Hipster-friendly...     Jakata   \n1  Twitter fanatic. Devoted web fanatic. Zombie e...     Jakata   \n2  Total alcohol practitioner. Social media buff....       Java   \n3  Extreme twitter advocate. Hardcore internet ju...     Jakata   \n4  Problem solver. Devoted introvert. Food geek. ...  Samarinda   \n\n           Qualification                                     Specialisation  \\\n0            High School  [Advanced Auto Diagnostic Techniques, Motor Ve...   \n1                Diploma  [Rail Apprenticeships, Rail Engineering Operat...   \n2                Diploma  [Rail Apprenticeships, Light Vehicle Service, ...   \n3  Professional Mechanic  [Advanced Auto Diagnostic Techniques, Advanced...   \n4                Diploma  [Rail Apprenticeships, Motor Vehicle Engineeri...   \n\n   Age  year of experience  \n0   18                  10  \n1   24                  13  \n2   22                  11  \n3   24                   6  \n4   22                  10  "
     },
     "execution_count": 9,
     "metadata": {},
     "output_type": "execute_result"
    }
   ],
   "source": [
    "with open(\"refined_profiles_1.pkl\",'rb') as fp:\r\n",
    "    df = pickle.load(fp)\r\n",
    "\r\n",
    "# Viewing the DF    \r\n",
    "df.head()"
   ]
  },
  {
   "cell_type": "code",
   "execution_count": null,
   "metadata": {},
   "outputs": [],
   "source": []
  },
  {
   "cell_type": "code",
   "execution_count": null,
   "metadata": {},
   "outputs": [],
   "source": []
  }
 ],
 "metadata": {
  "kernelspec": {
   "display_name": "Python 3",
   "language": "python",
   "name": "python3"
  },
  "language_info": {
   "codemirror_mode": {
    "name": "ipython",
    "version": 3
   },
   "file_extension": ".py",
   "mimetype": "text/x-python",
   "name": "python",
   "nbconvert_exporter": "python",
   "pygments_lexer": "ipython3",
   "version": "3.7.3"
  }
 },
 "nbformat": 4,
 "nbformat_minor": 2
}