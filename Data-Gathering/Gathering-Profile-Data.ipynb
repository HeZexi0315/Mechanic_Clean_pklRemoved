{
 "cells": [
  {
   "cell_type": "markdown",
   "metadata": {},
   "source": [
    "# Gathering Fake Data to Represent Dating Profiles\n",
    "Gathering random user bios and other profile data"
   ]
  },
  {
   "cell_type": "markdown",
   "metadata": {},
   "source": [
    "### Importing Libraries"
   ]
  },
  {
   "cell_type": "code",
   "execution_count": 1,
   "metadata": {},
   "outputs": [],
   "source": [
    "import requests\n",
    "import pandas as pd\n",
    "import time\n",
    "import random\n",
    "import re\n",
    "import numpy as np\n",
    "import _pickle as pickle\n",
    "from tqdm import tqdm_notebook as tqdm\n",
    "from bs4 import BeautifulSoup as bs"
   ]
  },
  {
   "cell_type": "markdown",
   "metadata": {},
   "source": [
    "## BeautifulSoup to Navigate\n",
    "Getting the user bio data"
   ]
  },
  {
   "cell_type": "code",
   "execution_count": 2,
   "metadata": {},
   "outputs": [
    {
     "name": "stderr",
     "output_type": "stream",
     "text": [
      "<ipython-input-2-bd58a4f2fa61>:8: TqdmDeprecationWarning: This function will be removed in tqdm==5.0.0\n",
      "Please use `tqdm.notebook.tqdm` instead of `tqdm.tqdm_notebook`\n",
      "  for _ in tqdm(range(1000)):\n"
     ]
    },
    {
     "data": {
      "application/vnd.jupyter.widget-view+json": {
       "model_id": "17423476031447a999415b46def51861",
       "version_major": 2,
       "version_minor": 0
      },
      "text/plain": "HBox(children=(HTML(value=''), FloatProgress(value=0.0, max=1000.0), HTML(value='')))"
     },
     "metadata": {},
     "output_type": "display_data"
    },
    {
     "name": "stdout",
     "output_type": "stream",
     "text": [
      "\n"
     ]
    }
   ],
   "source": [
    "# Randomizing the refresh rate\r\n",
    "seq = [i/10 for i in range(8,18)]\r\n",
    "\r\n",
    "# Creating a list of bios\r\n",
    "biolist = []\r\n",
    "\r\n",
    "# Gathering bios by looping and refreshing the web page\r\n",
    "for _ in tqdm(range(1000)):\r\n",
    "    \r\n",
    "    # Refreshing the page\r\n",
    "    page = requests.get(\"https://www.fakepersongenerator.com/user-biography-generator\")\r\n",
    "    soup = bs(page.content)\r\n",
    "    \r\n",
    "    try:\r\n",
    "        # Getting the bios\r\n",
    "        bios = soup.find('div', class_='row no-margin for-sign').find_all('p')\r\n",
    "\r\n",
    "        # Adding to a list of the bios\r\n",
    "        biolist.extend([re.findall('\"([^\"]*)\"', i.text) for i in bios])\r\n",
    "    except:\r\n",
    "        pass\r\n",
    "    \r\n",
    "    # Sleeping \r\n",
    "    time.sleep(random.choice(seq))"
   ]
  },
  {
   "cell_type": "code",
   "execution_count": 3,
   "metadata": {},
   "outputs": [],
   "source": [
    "# Creating a DF from the bio list\n",
    "bio_df = pd.DataFrame(biolist, columns=['Bios'])"
   ]
  },
  {
   "cell_type": "markdown",
   "metadata": {},
   "source": [
    "## Creating other Data"
   ]
  },
  {
   "cell_type": "code",
   "execution_count": 4,
   "metadata": {},
   "outputs": [],
   "source": [
    "# List of potential Dating questions/categories\r\n",
    "qs = ['Loation',\r\n",
    " \r\n",
    "      'Qualification',\r\n",
    "      'Specialisation'\r\n",
    "]"
   ]
  },
  {
   "cell_type": "code",
   "execution_count": 5,
   "metadata": {},
   "outputs": [],
   "source": [
    "# Creating a DF of the questions/categories\n",
    "topic_df = pd.DataFrame(columns=qs)"
   ]
  },
  {
   "cell_type": "code",
   "execution_count": 6,
   "metadata": {},
   "outputs": [],
   "source": [
    "# Filling in Data\n",
    "for i in topic_df.columns:\n",
    "    \n",
    "    # Range of numbers to represent different labels in each category\n",
    "    topic_df[i] = np.random.randint(0,10, bio_df.shape[0])\n",
    "    \n",
    "    # Logic: The numbers represent a specific choice within the categories\n",
    "    # So your number 1 preferred artist/song/album under the Music, your one favorite movie, etc."
   ]
  },
  {
   "cell_type": "code",
   "execution_count": 7,
   "metadata": {
    "scrolled": true
   },
   "outputs": [
    {
     "data": {
      "text/html": "<div>\n<style scoped>\n    .dataframe tbody tr th:only-of-type {\n        vertical-align: middle;\n    }\n\n    .dataframe tbody tr th {\n        vertical-align: top;\n    }\n\n    .dataframe thead th {\n        text-align: right;\n    }\n</style>\n<table border=\"1\" class=\"dataframe\">\n  <thead>\n    <tr style=\"text-align: right;\">\n      <th></th>\n      <th>Loation</th>\n      <th>Qualification</th>\n      <th>Specialisation</th>\n    </tr>\n  </thead>\n  <tbody>\n    <tr>\n      <th>0</th>\n      <td>5</td>\n      <td>3</td>\n      <td>1</td>\n    </tr>\n    <tr>\n      <th>1</th>\n      <td>5</td>\n      <td>7</td>\n      <td>3</td>\n    </tr>\n    <tr>\n      <th>2</th>\n      <td>2</td>\n      <td>0</td>\n      <td>2</td>\n    </tr>\n    <tr>\n      <th>3</th>\n      <td>4</td>\n      <td>6</td>\n      <td>6</td>\n    </tr>\n    <tr>\n      <th>4</th>\n      <td>7</td>\n      <td>2</td>\n      <td>8</td>\n    </tr>\n    <tr>\n      <th>...</th>\n      <td>...</td>\n      <td>...</td>\n      <td>...</td>\n    </tr>\n    <tr>\n      <th>6160</th>\n      <td>7</td>\n      <td>5</td>\n      <td>3</td>\n    </tr>\n    <tr>\n      <th>6161</th>\n      <td>3</td>\n      <td>1</td>\n      <td>8</td>\n    </tr>\n    <tr>\n      <th>6162</th>\n      <td>6</td>\n      <td>7</td>\n      <td>6</td>\n    </tr>\n    <tr>\n      <th>6163</th>\n      <td>7</td>\n      <td>7</td>\n      <td>3</td>\n    </tr>\n    <tr>\n      <th>6164</th>\n      <td>9</td>\n      <td>1</td>\n      <td>0</td>\n    </tr>\n  </tbody>\n</table>\n<p>6165 rows × 3 columns</p>\n</div>",
      "text/plain": "      Loation  Qualification  Specialisation\n0           5              3               1\n1           5              7               3\n2           2              0               2\n3           4              6               6\n4           7              2               8\n...       ...            ...             ...\n6160        7              5               3\n6161        3              1               8\n6162        6              7               6\n6163        7              7               3\n6164        9              1               0\n\n[6165 rows x 3 columns]"
     },
     "execution_count": 7,
     "metadata": {},
     "output_type": "execute_result"
    }
   ],
   "source": [
    "# Viewing the random data\n",
    "topic_df"
   ]
  },
  {
   "cell_type": "code",
   "execution_count": 8,
   "metadata": {
    "scrolled": true
   },
   "outputs": [
    {
     "data": {
      "text/html": "<div>\n<style scoped>\n    .dataframe tbody tr th:only-of-type {\n        vertical-align: middle;\n    }\n\n    .dataframe tbody tr th {\n        vertical-align: top;\n    }\n\n    .dataframe thead th {\n        text-align: right;\n    }\n</style>\n<table border=\"1\" class=\"dataframe\">\n  <thead>\n    <tr style=\"text-align: right;\">\n      <th></th>\n      <th>Bios</th>\n      <th>Loation</th>\n      <th>Qualification</th>\n      <th>Specialisation</th>\n    </tr>\n  </thead>\n  <tbody>\n    <tr>\n      <th>0</th>\n      <td>Passionate analyst. Explorer. Hipster-friendly...</td>\n      <td>5</td>\n      <td>3</td>\n      <td>1</td>\n    </tr>\n    <tr>\n      <th>1</th>\n      <td>Twitter fanatic. Devoted web fanatic. Zombie e...</td>\n      <td>5</td>\n      <td>7</td>\n      <td>3</td>\n    </tr>\n    <tr>\n      <th>2</th>\n      <td>Total alcohol practitioner. Social media buff....</td>\n      <td>2</td>\n      <td>0</td>\n      <td>2</td>\n    </tr>\n    <tr>\n      <th>3</th>\n      <td>Extreme twitter advocate. Hardcore internet ju...</td>\n      <td>4</td>\n      <td>6</td>\n      <td>6</td>\n    </tr>\n    <tr>\n      <th>4</th>\n      <td>Problem solver. Devoted introvert. Food geek. ...</td>\n      <td>7</td>\n      <td>2</td>\n      <td>8</td>\n    </tr>\n    <tr>\n      <th>...</th>\n      <td>...</td>\n      <td>...</td>\n      <td>...</td>\n      <td>...</td>\n    </tr>\n    <tr>\n      <th>6160</th>\n      <td>Lifelong zombie junkie. Friendly travel buff. ...</td>\n      <td>7</td>\n      <td>5</td>\n      <td>3</td>\n    </tr>\n    <tr>\n      <th>6161</th>\n      <td>Total introvert. Tv specialist. Pop culture ni...</td>\n      <td>3</td>\n      <td>1</td>\n      <td>8</td>\n    </tr>\n    <tr>\n      <th>6162</th>\n      <td>Friendly zombie specialist. Avid bacon expert....</td>\n      <td>6</td>\n      <td>7</td>\n      <td>6</td>\n    </tr>\n    <tr>\n      <th>6163</th>\n      <td>Wannabe coffee practitioner. Troublemaker. Com...</td>\n      <td>7</td>\n      <td>7</td>\n      <td>3</td>\n    </tr>\n    <tr>\n      <th>6164</th>\n      <td>Lifelong travel expert. Evil gamer. Infuriatin...</td>\n      <td>9</td>\n      <td>1</td>\n      <td>0</td>\n    </tr>\n  </tbody>\n</table>\n<p>6165 rows × 4 columns</p>\n</div>",
      "text/plain": "                                                   Bios  Loation  \\\n0     Passionate analyst. Explorer. Hipster-friendly...        5   \n1     Twitter fanatic. Devoted web fanatic. Zombie e...        5   \n2     Total alcohol practitioner. Social media buff....        2   \n3     Extreme twitter advocate. Hardcore internet ju...        4   \n4     Problem solver. Devoted introvert. Food geek. ...        7   \n...                                                 ...      ...   \n6160  Lifelong zombie junkie. Friendly travel buff. ...        7   \n6161  Total introvert. Tv specialist. Pop culture ni...        3   \n6162  Friendly zombie specialist. Avid bacon expert....        6   \n6163  Wannabe coffee practitioner. Troublemaker. Com...        7   \n6164  Lifelong travel expert. Evil gamer. Infuriatin...        9   \n\n      Qualification  Specialisation  \n0                 3               1  \n1                 7               3  \n2                 0               2  \n3                 6               6  \n4                 2               8  \n...             ...             ...  \n6160              5               3  \n6161              1               8  \n6162              7               6  \n6163              7               3  \n6164              1               0  \n\n[6165 rows x 4 columns]"
     },
     "execution_count": 8,
     "metadata": {},
     "output_type": "execute_result"
    }
   ],
   "source": [
    "# Joining the two dataframes\n",
    "final_df = bio_df.join(topic_df)\n",
    "final_df"
   ]
  },
  {
   "cell_type": "markdown",
   "metadata": {},
   "source": [
    "## Exporting the DF of Random User data"
   ]
  },
  {
   "cell_type": "code",
   "execution_count": 9,
   "metadata": {},
   "outputs": [],
   "source": [
    "with open(\"mechanic_profiles.pkl\", \"wb\") as fp:\r\n",
    "    pickle.dump(final_df, fp)"
   ]
  },
  {
   "cell_type": "code",
   "execution_count": null,
   "metadata": {},
   "outputs": [],
   "source": []
  }
 ],
 "metadata": {
  "kernelspec": {
   "display_name": "Python 3",
   "language": "python",
   "name": "python3"
  },
  "language_info": {
   "codemirror_mode": {
    "name": "ipython",
    "version": 3
   },
   "file_extension": ".py",
   "mimetype": "text/x-python",
   "name": "python",
   "nbconvert_exporter": "python",
   "pygments_lexer": "ipython3",
   "version": "3.8.5"
  }
 },
 "nbformat": 4,
 "nbformat_minor": 2
}